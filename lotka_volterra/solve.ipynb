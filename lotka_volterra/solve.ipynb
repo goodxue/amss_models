{
 "cells": [
  {
   "cell_type": "code",
   "execution_count": null,
   "id": "49378d42",
   "metadata": {},
   "outputs": [],
   "source": [
    "from lotka_volterra import Lotka_Volterra\n",
    "\n",
    "tmax = 30\n",
    "timestep = 0.0001\n",
    "\n",
    "predator_growth = 1\n",
    "predator_death = 1\n",
    "predator_initial = 1.8\n",
    "\n",
    "prey_growth = 0.6666\n",
    "prey_death = 1.3333\n",
    "prey_initial = 1.8\n",
    "\n",
    "\n",
    "L = Lotka_Volterra(predator_growth, predator_death, prey_growth,prey_death,tmax,timestep)\n",
    "L.set_initial_conditions(predator_initial, prey_initial)\n",
    "L.integrate()\n",
    "L.update(filename = 'LT_vs_time.png')"
   ]
  }
 ],
 "metadata": {
  "kernelspec": {
   "display_name": "Python 3",
   "language": "python",
   "name": "python3"
  },
  "language_info": {
   "codemirror_mode": {
    "name": "ipython",
    "version": 3
   },
   "file_extension": ".py",
   "mimetype": "text/x-python",
   "name": "python",
   "nbconvert_exporter": "python",
   "pygments_lexer": "ipython3",
   "version": "3.6.9"
  }
 },
 "nbformat": 4,
 "nbformat_minor": 5
}
